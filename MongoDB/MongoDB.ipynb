{
 "cells": [
  {
   "cell_type": "markdown",
   "metadata": {},
   "source": [
    "### Download and install MongoDB\n",
    "https://www.mongodb.com/try/download/community?\n",
    "\n",
    "### Download and install MongoDB Compass\n",
    "https://www.mongodb.com/try/download/compass\n",
    "\n",
    "### Install pymongo in anaconda prompt\n",
    "python -m pip install pymongo"
   ]
  },
  {
   "cell_type": "code",
   "execution_count": 1,
   "metadata": {},
   "outputs": [],
   "source": [
    "import pymongo"
   ]
  },
  {
   "cell_type": "markdown",
   "metadata": {},
   "source": [
    "## Create a DB"
   ]
  },
  {
   "cell_type": "code",
   "execution_count": 3,
   "metadata": {},
   "outputs": [],
   "source": [
    "DEFAULT_CONNECTION_URL = \"mongodb://localhost:27017/\"\n",
    "DB_NAME = \"MachineLearning\"\n",
    "\n",
    "# Establish a connection with mongoDB\n",
    "client = pymongo.MongoClient(DEFAULT_CONNECTION_URL)\n",
    "\n",
    "# Create a Database\n",
    "dataBase = client[DB_NAME]"
   ]
  },
  {
   "cell_type": "code",
   "execution_count": 4,
   "metadata": {},
   "outputs": [
    {
     "data": {
      "text/plain": [
       "['admin', 'config', 'datascience', 'local']"
      ]
     },
     "execution_count": 4,
     "metadata": {},
     "output_type": "execute_result"
    }
   ],
   "source": [
    "# See the existing list of DBs\n",
    "\n",
    "client.list_database_names()"
   ]
  },
  {
   "cell_type": "code",
   "execution_count": 7,
   "metadata": {},
   "outputs": [
    {
     "name": "stdout",
     "output_type": "stream",
     "text": [
      "DB: 'MachineLearning' not yet present or no collection is present in the DB\n"
     ]
    }
   ],
   "source": [
    "# Verify whether we have our database in the list or not\n",
    "\n",
    "def checkExistence_DB(DB_NAME, client):\n",
    "    DBlist = client.list_database_names()\n",
    "    if DB_NAME in DBlist:\n",
    "        print(f\"DB: '{DB_NAME}' exists\")\n",
    "        return True\n",
    "    \n",
    "    print(f\"DB: '{DB_NAME}' not yet present or no collection is present in the DB\")\n",
    "    return False\n",
    "\n",
    "_ = checkExistence_DB(DB_NAME=DB_NAME, client=client)"
   ]
  },
  {
   "cell_type": "markdown",
   "metadata": {},
   "source": [
    "## Create a Collection"
   ]
  },
  {
   "cell_type": "code",
   "execution_count": 8,
   "metadata": {},
   "outputs": [],
   "source": [
    "COLLECTION_NAME = \"ML_Products\"\n",
    "collection = dataBase[COLLECTION_NAME]"
   ]
  },
  {
   "cell_type": "code",
   "execution_count": 11,
   "metadata": {},
   "outputs": [
    {
     "name": "stdout",
     "output_type": "stream",
     "text": [
      "COLLECTION: 'ML_Products' in Database: 'MachineLearning' doesnot exists\n"
     ]
    }
   ],
   "source": [
    "# Lets verify whether we have our database collection name in the list or not\n",
    "\n",
    "def checkExistence_COL(COLLECTION_NAME, DB_NAME, db):\n",
    "    collection_list = db.list_collection_names()\n",
    "    if COLLECTION_NAME in collection_list:\n",
    "        print(f\"COLLECTION: '{COLLECTION_NAME}' in Database: '{DB_NAME}' exists\")\n",
    "        return True\n",
    "              \n",
    "    print(f\"COLLECTION: '{COLLECTION_NAME}' in Database: '{DB_NAME}' doesnot exists\")\n",
    "    return False\n",
    "          \n",
    "_ = checkExistence_COL(COLLECTION_NAME=COLLECTION_NAME, DB_NAME=DB_NAME, db=dataBase)\n",
    "    "
   ]
  },
  {
   "cell_type": "markdown",
   "metadata": {},
   "source": [
    "## Insert a record in the collection"
   ]
  },
  {
   "cell_type": "code",
   "execution_count": 12,
   "metadata": {},
   "outputs": [
    {
     "data": {
      "text/plain": [
       "<pymongo.results.InsertOneResult at 0x2375f19eb48>"
      ]
     },
     "execution_count": 12,
     "metadata": {},
     "output_type": "execute_result"
    }
   ],
   "source": [
    "record = {'companyName': 'RajbanshiGroup',\n",
    "           'product': 'Affordable AI',\n",
    "            'courseOffered': 'Deep Learning for Computer Vision'\n",
    "         }\n",
    "collection.insert_one(record)"
   ]
  },
  {
   "cell_type": "code",
   "execution_count": 13,
   "metadata": {},
   "outputs": [
    {
     "name": "stdout",
     "output_type": "stream",
     "text": [
      "COLLECTION: 'ML_Products' in Database: 'MachineLearning' exists\n"
     ]
    }
   ],
   "source": [
    "# Verify COLLECTION\n",
    "_ = checkExistence_COL(COLLECTION_NAME=COLLECTION_NAME, DB_NAME=DB_NAME, db=dataBase)"
   ]
  },
  {
   "cell_type": "code",
   "execution_count": 14,
   "metadata": {},
   "outputs": [
    {
     "name": "stdout",
     "output_type": "stream",
     "text": [
      "DB: 'MachineLearning' exists\n"
     ]
    }
   ],
   "source": [
    "# Verify DATABASE\n",
    "_ = checkExistence_DB(DB_NAME=DB_NAME, client=client)"
   ]
  },
  {
   "cell_type": "markdown",
   "metadata": {},
   "source": [
    "## Insert Multiple Records"
   ]
  },
  {
   "cell_type": "code",
   "execution_count": 16,
   "metadata": {},
   "outputs": [],
   "source": [
    "list_of_records = [\n",
    "    {'companyName': 'RajbanshiGroup',\n",
    "           'product': 'Affordable ML',\n",
    "            'courseOffered': 'Data Science for Beginners'\n",
    "         },\n",
    "    {'companyName': 'RajbanshiGroup',\n",
    "           'product': 'Affordable AI',\n",
    "            'courseOffered': 'Deep Learning for NLP'\n",
    "         },\n",
    "    {'companyName': 'RajbanshiGroup',\n",
    "           'product': 'Affordable Data Science',\n",
    "            'courseOffered': 'Machine Learning and Deep Learning '\n",
    "         },\n",
    "    {'companyName': 'RajbanshiGroup',\n",
    "           'product': 'Affordable BlackBelt Course',\n",
    "            'courseOffered': '150 hours of ML/DL classes'\n",
    "         }\n",
    "]\n",
    "\n",
    "rec = collection.insert_many(list_of_records)"
   ]
  },
  {
   "cell_type": "code",
   "execution_count": 17,
   "metadata": {},
   "outputs": [
    {
     "name": "stdout",
     "output_type": "stream",
     "text": [
      "0.5f7d628d8128708336299e95\n",
      "1.5f7d628d8128708336299e96\n",
      "2.5f7d628d8128708336299e97\n",
      "3.5f7d628d8128708336299e98\n"
     ]
    }
   ],
   "source": [
    "# Lets print the unique ID that of the record that we have inserted\n",
    "\n",
    "inserted_IDs = rec.inserted_ids\n",
    "\n",
    "for idx, unique_ids in enumerate(inserted_IDs):\n",
    "    print(f\"{idx}.{unique_ids}\")"
   ]
  },
  {
   "cell_type": "code",
   "execution_count": 18,
   "metadata": {},
   "outputs": [],
   "source": [
    "# You can override the default unique Id by giving a user defined\n",
    "\n",
    "COLLECTION_NAME = 'ML_Sections'\n",
    "sections = dataBase[COLLECTION_NAME]\n",
    "\n",
    "list_of_records_user_defined_id = [\n",
    "    {\"_id\": \"1\",\n",
    "     \"companyName\": \"RajbanshiGroup\",\n",
    "     \"Section\": \"section-1\"},\n",
    "    {\"_id\": \"2\",\n",
    "     \"companyName\": \"RajbanshiGroup\",\n",
    "     \"Section\": \"section-2\"}\n",
    "]\n",
    "\n",
    "section_record =  sections.insert_many(list_of_records_user_defined_id)"
   ]
  },
  {
   "cell_type": "code",
   "execution_count": 20,
   "metadata": {},
   "outputs": [],
   "source": [
    "# You can override the default unique Id by giving a user defined\n",
    "\n",
    "COLLECTION_NAME = 'ML_Faculties'\n",
    "faculties = dataBase[COLLECTION_NAME]\n",
    "\n",
    "list_of_records_user_defined_id = [\n",
    "    {\"_id\": \"1\",\n",
    "     \"companyName\": \"RajbanshiGroup\",\n",
    "     \"Faculty\": \"ML\"},\n",
    "    {\"_id\": \"2\",\n",
    "     \"companyName\": \"RajbanshiGroup\",\n",
    "     \"Faculty\": \"DL\"}\n",
    "]\n",
    "\n",
    "section_record =  faculties.insert_many(list_of_records_user_defined_id)"
   ]
  },
  {
   "cell_type": "markdown",
   "metadata": {},
   "source": [
    "## Find Method in MongoDB"
   ]
  },
  {
   "cell_type": "code",
   "execution_count": 24,
   "metadata": {},
   "outputs": [
    {
     "name": "stdout",
     "output_type": "stream",
     "text": [
      "The first record of collection: \n",
      " ML_Faculties is = \n",
      " {'_id': '1', 'companyName': 'RajbanshiGroup', 'Faculty': 'ML'}\n"
     ]
    }
   ],
   "source": [
    "find_first_record = faculties.find_one()\n",
    "\n",
    "print(f\"The first record of collection: \\n {COLLECTION_NAME} is = \\n {find_first_record}\")"
   ]
  },
  {
   "cell_type": "code",
   "execution_count": 25,
   "metadata": {},
   "outputs": [
    {
     "name": "stdout",
     "output_type": "stream",
     "text": [
      "0: {'_id': '1', 'companyName': 'RajbanshiGroup', 'Faculty': 'ML'}\n",
      "1: {'_id': '2', 'companyName': 'RajbanshiGroup', 'Faculty': 'DL'}\n"
     ]
    }
   ],
   "source": [
    "# Find all the record at once present in the record with all the fields\n",
    "all_record = faculties.find()\n",
    "\n",
    "for idx, record in enumerate(all_record):\n",
    "    print(f\"{idx}: {record}\")"
   ]
  },
  {
   "cell_type": "code",
   "execution_count": 29,
   "metadata": {},
   "outputs": [
    {
     "name": "stdout",
     "output_type": "stream",
     "text": [
      "0: {'_id': '1', 'Faculty': 'ML'}\n",
      "1: {'_id': '2', 'Faculty': 'DL'}\n"
     ]
    }
   ],
   "source": [
    "all_record = faculties.find({}, {\"Faculty\"})\n",
    "\n",
    "for idx, record in enumerate(all_record):\n",
    "    print(f\"{idx}: {record}\")"
   ]
  },
  {
   "cell_type": "markdown",
   "metadata": {},
   "source": [
    "## Query or filter out data in MongoDB"
   ]
  },
  {
   "cell_type": "code",
   "execution_count": 30,
   "metadata": {},
   "outputs": [
    {
     "name": "stdout",
     "output_type": "stream",
     "text": [
      "{'_id': '1', 'companyName': 'RajbanshiGroup', 'Faculty': 'ML'}\n"
     ]
    }
   ],
   "source": [
    "query1 = {\"_id\": '1'}\n",
    "\n",
    "results = faculties.find(query1)\n",
    "for data in results:\n",
    "    print(data)"
   ]
  },
  {
   "cell_type": "code",
   "execution_count": 39,
   "metadata": {},
   "outputs": [
    {
     "name": "stdout",
     "output_type": "stream",
     "text": [
      "{'_id': '2', 'companyName': 'RajbanshiGroup', 'Faculty': 'DL'}\n",
      "{'_id': '7', 'companyName': 'RajbanshiGroup', 'Faculty': 'XYZ'}\n",
      "{'_id': '8', 'companyName': 'RajbanshiGroup', 'Faculty': 'XYZ'}\n",
      "{'_id': '9', 'companyName': 'RajbanshiGroup', 'Faculty': 'XYZ'}\n"
     ]
    }
   ],
   "source": [
    "query2 = {\"_id\": {\"$gt\": '1'}}\n",
    "\n",
    "results = faculties.find(query2)\n",
    "for data in results:\n",
    "    print(data)"
   ]
  },
  {
   "cell_type": "markdown",
   "metadata": {},
   "source": [
    "## Delete one or many documents in MongoDB"
   ]
  },
  {
   "cell_type": "code",
   "execution_count": 36,
   "metadata": {},
   "outputs": [
    {
     "data": {
      "text/plain": [
       "<pymongo.results.InsertManyResult at 0x23761670b48>"
      ]
     },
     "execution_count": 36,
     "metadata": {},
     "output_type": "execute_result"
    }
   ],
   "source": [
    "# Let's add some random data in faculties\n",
    "\n",
    "random_data = [\n",
    "    {'_id': '7', 'companyName': 'RajbanshiGroup', 'Faculty': 'XYZ'},\n",
    "    {'_id': '8', 'companyName': 'RajbanshiGroup', 'Faculty': 'XYZ'},\n",
    "    {'_id': '9', 'companyName': 'RajbanshiGroup', 'Faculty': 'XYZ'},\n",
    "]\n",
    "\n",
    "faculties.insert_many(random_data)"
   ]
  },
  {
   "cell_type": "code",
   "execution_count": 37,
   "metadata": {},
   "outputs": [
    {
     "data": {
      "text/plain": [
       "<pymongo.results.DeleteResult at 0x2376077fb08>"
      ]
     },
     "execution_count": 37,
     "metadata": {},
     "output_type": "execute_result"
    }
   ],
   "source": [
    "# Let's delete one document in faculties\n",
    "query_to_delete = {\"Faculty\": \"XYZ\"}\n",
    "\n",
    "faculties.delete_one(query_to_delete)"
   ]
  },
  {
   "cell_type": "code",
   "execution_count": 40,
   "metadata": {},
   "outputs": [
    {
     "data": {
      "text/plain": [
       "<pymongo.results.DeleteResult at 0x23761684388>"
      ]
     },
     "execution_count": 40,
     "metadata": {},
     "output_type": "execute_result"
    }
   ],
   "source": [
    "# Let's delete multiple record\n",
    "multi_query_to_delete = {\"_id\": {\"$gte\": \"4\"}}\n",
    "\n",
    "faculties.delete_many(multi_query_to_delete)"
   ]
  },
  {
   "cell_type": "code",
   "execution_count": 41,
   "metadata": {},
   "outputs": [],
   "source": [
    "## In order to delete all the documents present in the collection\n",
    "\n",
    "# faculties.delete_many({})"
   ]
  },
  {
   "cell_type": "markdown",
   "metadata": {},
   "source": [
    "## Drop the entire collection"
   ]
  },
  {
   "cell_type": "code",
   "execution_count": 42,
   "metadata": {},
   "outputs": [],
   "source": [
    "faculties.drop()"
   ]
  },
  {
   "cell_type": "code",
   "execution_count": 43,
   "metadata": {},
   "outputs": [
    {
     "name": "stdout",
     "output_type": "stream",
     "text": [
      "COLLECTION: 'ML_Faculties' in Database: 'MachineLearning' doesnot exists\n"
     ]
    }
   ],
   "source": [
    "# Let's verify if the collection exists or not after dropping it\n",
    "\n",
    "COLLECTION_NAME = \"ML_Faculties\"\n",
    "DB_NAME = \"MachineLearning\"\n",
    "_ = checkExistence_COL(COLLECTION_NAME=COLLECTION_NAME, DB_NAME=DB_NAME, db =dataBase)\n"
   ]
  },
  {
   "cell_type": "markdown",
   "metadata": {},
   "source": [
    "## Update data"
   ]
  },
  {
   "cell_type": "code",
   "execution_count": 44,
   "metadata": {},
   "outputs": [
    {
     "name": "stdout",
     "output_type": "stream",
     "text": [
      "{'_id': ObjectId('5f7d60908128708336299e94'), 'companyName': 'RajbanshiGroup', 'product': 'Affordable AI', 'courseOffered': 'Deep Learning for Computer Vision'}\n",
      "\n",
      "{'_id': ObjectId('5f7d628d8128708336299e95'), 'companyName': 'RajbanshiGroup', 'product': 'Affordable ML', 'courseOffered': 'Data Science for Beginners'}\n",
      "\n",
      "{'_id': ObjectId('5f7d628d8128708336299e96'), 'companyName': 'RajbanshiGroup', 'product': 'Affordable AI', 'courseOffered': 'Deep Learning for NLP'}\n",
      "\n",
      "{'_id': ObjectId('5f7d628d8128708336299e97'), 'companyName': 'RajbanshiGroup', 'product': 'Affordable Data Science', 'courseOffered': 'Machine Learning and Deep Learning '}\n",
      "\n",
      "{'_id': ObjectId('5f7d628d8128708336299e98'), 'companyName': 'RajbanshiGroup', 'product': 'Affordable BlackBelt Course', 'courseOffered': '150 hours of ML/DL classes'}\n",
      "\n"
     ]
    }
   ],
   "source": [
    "COLLECTION_NAME = \"ML_Products\"\n",
    "products = dataBase[COLLECTION_NAME]\n",
    "\n",
    "all_record = products.find()\n",
    "\n",
    "for idx, record in enumerate(all_record):\n",
    "    print(f\"{record}\\n\")"
   ]
  },
  {
   "cell_type": "code",
   "execution_count": 45,
   "metadata": {},
   "outputs": [],
   "source": [
    "# update data\n",
    "present_data = {'courseOffered': 'Data Science for Beginners'}\n",
    "new_data = {\"$set\": {'courseOffered': 'Data Science in Advanced'}}"
   ]
  },
  {
   "cell_type": "code",
   "execution_count": 47,
   "metadata": {},
   "outputs": [
    {
     "data": {
      "text/plain": [
       "<pymongo.results.UpdateResult at 0x23761689688>"
      ]
     },
     "execution_count": 47,
     "metadata": {},
     "output_type": "execute_result"
    }
   ],
   "source": [
    "products.update_one(present_data, new_data)"
   ]
  },
  {
   "cell_type": "code",
   "execution_count": 48,
   "metadata": {},
   "outputs": [
    {
     "name": "stdout",
     "output_type": "stream",
     "text": [
      "{'_id': ObjectId('5f7d60908128708336299e94'), 'companyName': 'RajbanshiGroup', 'product': 'Affordable AI', 'courseOffered': 'Deep Learning for Computer Vision'}\n",
      "\n",
      "{'_id': ObjectId('5f7d628d8128708336299e95'), 'companyName': 'RajbanshiGroup', 'product': 'Affordable ML', 'courseOffered': 'Data Science in Advanced'}\n",
      "\n",
      "{'_id': ObjectId('5f7d628d8128708336299e96'), 'companyName': 'RajbanshiGroup', 'product': 'Affordable AI', 'courseOffered': 'Deep Learning for NLP'}\n",
      "\n",
      "{'_id': ObjectId('5f7d628d8128708336299e97'), 'companyName': 'RajbanshiGroup', 'product': 'Affordable Data Science', 'courseOffered': 'Machine Learning and Deep Learning '}\n",
      "\n",
      "{'_id': ObjectId('5f7d628d8128708336299e98'), 'companyName': 'RajbanshiGroup', 'product': 'Affordable BlackBelt Course', 'courseOffered': '150 hours of ML/DL classes'}\n",
      "\n"
     ]
    }
   ],
   "source": [
    "all_record = products.find()\n",
    "\n",
    "for idx, record in enumerate(all_record):\n",
    "    print(f\"{record}\\n\")"
   ]
  },
  {
   "cell_type": "code",
   "execution_count": 49,
   "metadata": {},
   "outputs": [],
   "source": [
    "present_data = {'companyName': 'RajbanshiGroup'}\n",
    "new_data = {\"$set\": {'companyName': 'RajbanshiCompany'}}"
   ]
  },
  {
   "cell_type": "code",
   "execution_count": 50,
   "metadata": {},
   "outputs": [
    {
     "name": "stdout",
     "output_type": "stream",
     "text": [
      "{'_id': ObjectId('5f7d60908128708336299e94'), 'companyName': 'RajbanshiCompany', 'product': 'Affordable AI', 'courseOffered': 'Deep Learning for Computer Vision'}\n",
      "\n",
      "{'_id': ObjectId('5f7d628d8128708336299e95'), 'companyName': 'RajbanshiCompany', 'product': 'Affordable ML', 'courseOffered': 'Data Science in Advanced'}\n",
      "\n",
      "{'_id': ObjectId('5f7d628d8128708336299e96'), 'companyName': 'RajbanshiCompany', 'product': 'Affordable AI', 'courseOffered': 'Deep Learning for NLP'}\n",
      "\n",
      "{'_id': ObjectId('5f7d628d8128708336299e97'), 'companyName': 'RajbanshiCompany', 'product': 'Affordable Data Science', 'courseOffered': 'Machine Learning and Deep Learning '}\n",
      "\n",
      "{'_id': ObjectId('5f7d628d8128708336299e98'), 'companyName': 'RajbanshiCompany', 'product': 'Affordable BlackBelt Course', 'courseOffered': '150 hours of ML/DL classes'}\n",
      "\n"
     ]
    }
   ],
   "source": [
    "products.update_many(present_data, new_data)\n",
    "\n",
    "all_record = products.find()\n",
    "\n",
    "for idx, record in enumerate(all_record):\n",
    "    print(f\"{record}\\n\")"
   ]
  },
  {
   "cell_type": "markdown",
   "metadata": {},
   "source": [
    "## Set limit to view N records"
   ]
  },
  {
   "cell_type": "code",
   "execution_count": 51,
   "metadata": {},
   "outputs": [
    {
     "name": "stdout",
     "output_type": "stream",
     "text": [
      "{'_id': ObjectId('5f7d60908128708336299e94'), 'companyName': 'RajbanshiCompany', 'product': 'Affordable AI', 'courseOffered': 'Deep Learning for Computer Vision'}\n",
      "\n",
      "{'_id': ObjectId('5f7d628d8128708336299e95'), 'companyName': 'RajbanshiCompany', 'product': 'Affordable ML', 'courseOffered': 'Data Science in Advanced'}\n",
      "\n",
      "{'_id': ObjectId('5f7d628d8128708336299e96'), 'companyName': 'RajbanshiCompany', 'product': 'Affordable AI', 'courseOffered': 'Deep Learning for NLP'}\n",
      "\n"
     ]
    }
   ],
   "source": [
    "N_records = 3\n",
    "\n",
    "N_record = products.find().limit(N_records)\n",
    "\n",
    "for idx, record in enumerate(N_record):\n",
    "    print(f\"{record}\\n\")"
   ]
  }
 ],
 "metadata": {
  "kernelspec": {
   "display_name": "Python 3",
   "language": "python",
   "name": "python3"
  },
  "language_info": {
   "codemirror_mode": {
    "name": "ipython",
    "version": 3
   },
   "file_extension": ".py",
   "mimetype": "text/x-python",
   "name": "python",
   "nbconvert_exporter": "python",
   "pygments_lexer": "ipython3",
   "version": "3.7.6"
  }
 },
 "nbformat": 4,
 "nbformat_minor": 4
}
